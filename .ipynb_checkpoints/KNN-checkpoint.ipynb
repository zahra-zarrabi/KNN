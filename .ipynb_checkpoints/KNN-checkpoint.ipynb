{
 "cells": [
  {
   "cell_type": "code",
   "execution_count": 1,
   "id": "37d1d2dc",
   "metadata": {},
   "outputs": [],
   "source": [
    "import pandas as pd\n",
    "import numpy as np\n",
    "import matplotlib.pyplot as plt"
   ]
  },
  {
   "cell_type": "code",
   "execution_count": 2,
   "id": "b85486af",
   "metadata": {},
   "outputs": [
    {
     "data": {
      "text/plain": [
       "<matplotlib.collections.PathCollection at 0xbe76d88>"
      ]
     },
     "execution_count": 2,
     "metadata": {},
     "output_type": "execute_result"
    },
    {
     "data": {
      "image/png": "[encoded data removed]",
      "text/plain": [
       "<Figure size 432x288 with 1 Axes>"
      ]
     },
     "metadata": {
      "needs_background": "light"
     },
     "output_type": "display_data"
    }
   ],
   "source": [
    "n=100\n",
    "std=0.5\n",
    "bananas_width= np.random.normal(4,std,n)\n",
    "bananas_length=np.random.normal(8,std,n)\n",
    "\n",
    "apple_width=np.random.normal(6,std,n)\n",
    "apple_length=np.random.normal(6,std,n)\n",
    "\n",
    "width=np.concatenate((bananas_width,apple_width))\n",
    "length=np.concatenate((bananas_length,apple_length))\n",
    "\n",
    "X=np.array([width,length]).T\n",
    "\n",
    "bananas_label=np.zeros(n,dtype='int')\n",
    "apple_label=np.ones(n,dtype='int')\n",
    "\n",
    "Y=np.concatenate((bananas_label,apple_label))\n",
    "\n",
    "plt.scatter(X[:n,0],X[:n,1],c='orange')\n",
    "plt.scatter(X[n:,0],X[n:,1],c='red')"
   ]
  },
  {
   "cell_type": "markdown",
   "id": "7a966215",
   "metadata": {},
   "source": [
    "# KNN"
   ]
  },
  {
   "cell_type": "code",
   "execution_count": 6,
   "id": "571ee920",
   "metadata": {},
   "outputs": [],
   "source": [
    "class KNearestNeighbors:\n",
    "    def __init__(self,k):\n",
    "        self.k=k\n",
    "    #train\n",
    "    def fit(self,x_train,y_train):\n",
    "        self.x_train=x_train\n",
    "        self.y_train=y_train\n",
    "        self.number_class=len(np.unique(y_train))\n",
    "    def nearneighbors(self,x_test):\n",
    "        distance=np.sqrt(np.sum((x_test-self.x_train)**2,axis=1))\n",
    "        near_neighbors=np.argsort(distance)[:self.k]\n",
    "        return near_neighbors\n",
    "    \n",
    "    #test\n",
    "    def predict(self,x_test):\n",
    "        near_neighbors=self.nearneighbors(x_test)\n",
    "        y=np.argmax(np.bincount(self.y_train[near_neighbors]))\n",
    "        return y"
   ]
  },
  {
   "cell_type": "code",
   "execution_count": 7,
   "id": "0868e55b",
   "metadata": {},
   "outputs": [],
   "source": [
    "knn = KNearestNeighbors(k=5)\n",
    "knn.fit(X,Y)"
   ]
  },
  {
   "cell_type": "code",
   "execution_count": 8,
   "id": "6d6d453e",
   "metadata": {},
   "outputs": [
    {
     "name": "stdout",
     "output_type": "stream",
     "text": [
      "0\n"
     ]
    }
   ],
   "source": [
    "fruit_new = np.array([4.7,6.8])\n",
    "y_pred = knn.predict(fruit_new)\n",
    "print(y_pred)"
   ]
  },
  {
   "cell_type": "code",
   "execution_count": 9,
   "id": "1c96f915",
   "metadata": {},
   "outputs": [
    {
     "name": "stdout",
     "output_type": "stream",
     "text": [
      "موز\n"
     ]
    }
   ],
   "source": [
    "fruit = {0:'موز', \n",
    "        1:\"سیب\"}\n",
    "print(fruit[y_pred])"
   ]
  },
  {
   "cell_type": "code",
   "execution_count": null,
   "id": "a16a3f87",
   "metadata": {},
   "outputs": [],
   "source": []
  }
 ],
 "metadata": {
  "kernelspec": {
   "display_name": "Python 3 (ipykernel)",
   "language": "python",
   "name": "python3"
  },
  "language_info": {
   "codemirror_mode": {
    "name": "ipython",
    "version": 3
   },
   "file_extension": ".py",
   "mimetype": "text/x-python",
   "name": "python",
   "nbconvert_exporter": "python",
   "pygments_lexer": "ipython3",
   "version": "3.7.10"
  }
 },
 "nbformat": 4,
 "nbformat_minor": 5
}
