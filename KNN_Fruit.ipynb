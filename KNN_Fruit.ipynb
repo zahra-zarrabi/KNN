{
 "cells": [
  {
   "cell_type": "code",
   "execution_count": 50,
   "id": "37d1d2dc",
   "metadata": {},
   "outputs": [],
   "source": [
    "import pandas as pd\n",
    "import numpy as np\n",
    "import matplotlib.pyplot as plt"
   ]
  },
  {
   "cell_type": "code",
   "execution_count": 51,
   "id": "b85486af",
   "metadata": {},
   "outputs": [],
   "source": [
    "\n",
    "def generate_data(n):\n",
    "    std=0.5\n",
    "    bananas_width= np.random.normal(4,std,n)\n",
    "    bananas_length=np.random.normal(8,std,n)\n",
    "\n",
    "    apple_width=np.random.normal(6,std,n)\n",
    "    apple_length=np.random.normal(6,std,n)\n",
    "\n",
    "    orange_width=np.random.normal(8,std,n)\n",
    "    orange_length=np.random.normal(8,std,n)\n",
    "\n",
    "    width=np.concatenate((bananas_width,apple_width,orange_width))\n",
    "    length=np.concatenate((bananas_length,apple_length,orange_length))\n",
    "\n",
    "    X=np.array([width,length]).T\n",
    "\n",
    "    bananas_label=np.zeros(n,dtype='int')\n",
    "    apple_label=np.ones(n,dtype='int')\n",
    "    orange_label=np.ones(n,dtype='int')+1\n",
    "\n",
    "    Y=np.concatenate((bananas_label,apple_label,orange_label))\n",
    "\n",
    "    return X,Y"
   ]
  },
  {
   "cell_type": "code",
   "execution_count": 52,
   "id": "f7118b43",
   "metadata": {},
   "outputs": [
    {
     "data": {
      "text/plain": [
       "<matplotlib.collections.PathCollection at 0x144b4c88>"
      ]
     },
     "execution_count": 52,
     "metadata": {},
     "output_type": "execute_result"
    },
    {
     "data": {
      "image/png": "[encoded data removed]",
      "text/plain": [
       "<Figure size 432x288 with 1 Axes>"
      ]
     },
     "metadata": {
      "needs_background": "light"
     },
     "output_type": "display_data"
    }
   ],
   "source": [
    "n=int(100/3)\n",
    "X_train,Y_train=generate_data(n)\n",
    "plt.scatter(X_train[:n,0],X_train[:n,1],c='yellow')\n",
    "plt.scatter(X_train[n:2*n,0],X_train[n:2*n,1],c='red')\n",
    "plt.scatter(X_train[2*n:,0],X_train[2*n:,1],c='orange')"
   ]
  },
  {
   "cell_type": "markdown",
   "id": "7a966215",
   "metadata": {},
   "source": [
    "# KNN"
   ]
  },
  {
   "cell_type": "code",
   "execution_count": 53,
   "id": "571ee920",
   "metadata": {},
   "outputs": [],
   "source": [
    "class KNearestNeighbors:\n",
    "    def __init__(self,k):\n",
    "        self.k=k\n",
    "    #train\n",
    "    def fit(self,x_train,y_train):\n",
    "        self.x_train=x_train\n",
    "        self.y_train=y_train\n",
    "        self.number_class=len(np.unique(y_train))\n",
    "    def nearneighbors(self,x_test):\n",
    "        distance=np.sqrt(np.sum((x_test-self.x_train)**2,axis=1))\n",
    "        near_neighbors=np.argsort(distance)[:self.k]\n",
    "        return near_neighbors\n",
    "    \n",
    "    #test\n",
    "    def predict(self,x_test):\n",
    "        near_neighbors=self.nearneighbors(x_test)\n",
    "        y=np.argmax(np.bincount(self.y_train[near_neighbors]))\n",
    "        return y\n",
    "    \n",
    "    def evaluate(self,x_test,y_test):\n",
    "        self.x_test=x_test\n",
    "        self.y_test=y_test\n",
    "        y_pred=np.zeros(len(self.x_test))\n",
    "        for i , test in enumerate(self.x_test):\n",
    "            y_pred[i]=self.predict(test)\n",
    "        evoluatation=(y_pred==self.y_test).sum()/len(self.y_test)\n",
    "        \n",
    "        return \"Accuracy :\",evoluatation\n",
    "    "
   ]
  },
  {
   "cell_type": "code",
   "execution_count": null,
   "id": "58f276d3",
   "metadata": {},
   "outputs": [],
   "source": []
  },
  {
   "cell_type": "code",
   "execution_count": 54,
   "id": "0868e55b",
   "metadata": {},
   "outputs": [
    {
     "data": {
      "text/plain": [
       "('evoluatation :', 0.9797979797979798)"
      ]
     },
     "execution_count": 54,
     "metadata": {},
     "output_type": "execute_result"
    }
   ],
   "source": [
    "knn = KNearestNeighbors(k=5)\n",
    "# X_train ,X_test,Y_train,Y_test=train_test_split(X,Y,,test_size=0.25,random_state=42)\n",
    "knn.fit(X_train,Y_train)\n",
    "\n",
    "X_test,Y_test=generate_data(n)\n",
    "knn.evaluate(X_test,Y_test)"
   ]
  },
  {
   "cell_type": "code",
   "execution_count": 55,
   "id": "02dfc5b0",
   "metadata": {},
   "outputs": [
    {
     "name": "stdout",
     "output_type": "stream",
     "text": [
      "0.9797979797979798\n"
     ]
    }
   ],
   "source": [
    "from sklearn.neighbors import KNeighborsClassifier\n",
    "neigh = KNeighborsClassifier(n_neighbors=5)\n",
    "neigh.fit(X_train,Y_train)\n",
    "prediction=neigh.predict(X_test)\n",
    "evoluatation=(prediction==Y_test).sum()/len(Y_test)\n",
    "print(evoluatation)"
   ]
  },
  {
   "cell_type": "code",
   "execution_count": 56,
   "id": "6d6d453e",
   "metadata": {},
   "outputs": [
    {
     "name": "stdout",
     "output_type": "stream",
     "text": [
      "1\n"
     ]
    }
   ],
   "source": [
    "fruit_new = np.array([4.7,6.8])\n",
    "y_pred = knn.predict(fruit_new)\n",
    "print(y_pred)"
   ]
  },
  {
   "cell_type": "code",
   "execution_count": 47,
   "id": "1c96f915",
   "metadata": {},
   "outputs": [
    {
     "name": "stdout",
     "output_type": "stream",
     "text": [
      "موز\n"
     ]
    }
   ],
   "source": [
    "fruit = {0:'موز', \n",
    "        1:\"سیب\"}\n",
    "print(fruit[y_pred])"
   ]
  },
  {
   "cell_type": "code",
   "execution_count": 48,
   "id": "a16a3f87",
   "metadata": {},
   "outputs": [
    {
     "name": "stdout",
     "output_type": "stream",
     "text": [
      "2\n",
      "پرتقال\n"
     ]
    }
   ],
   "source": [
    "fruit_new = np.array([8,7])\n",
    "y_pred = knn.predict(fruit_new)\n",
    "print(y_pred)\n",
    "fruit = {0:'موز', \n",
    "        1:\"سیب\",\n",
    "        2:'پرتقال'}\n",
    "print(fruit[y_pred])"
   ]
  },
  {
   "cell_type": "code",
   "execution_count": null,
   "id": "c795cef7",
   "metadata": {},
   "outputs": [],
   "source": []
  }
 ],
 "metadata": {
  "kernelspec": {
   "display_name": "Python 3 (ipykernel)",
   "language": "python",
   "name": "python3"
  },
  "language_info": {
   "codemirror_mode": {
    "name": "ipython",
    "version": 3
   },
   "file_extension": ".py",
   "mimetype": "text/x-python",
   "name": "python",
   "nbconvert_exporter": "python",
   "pygments_lexer": "ipython3",
   "version": "3.7.10"
  }
 },
 "nbformat": 4,
 "nbformat_minor": 5
}
